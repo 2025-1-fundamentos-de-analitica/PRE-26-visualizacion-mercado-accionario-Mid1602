{
 "cells": [
  {
   "cell_type": "code",
   "execution_count": 1,
   "id": "dbc6e7c1",
   "metadata": {},
   "outputs": [],
   "source": [
    "# %%\n",
    "#\n",
    "# Carga de datos\n",
    "# Principales acciones entre 2003 y 2008\n",
    "#\n",
    "import glob\n",
    "\n",
    "import pandas as pd  # type: ignore\n",
    "\n",
    "files = glob.glob(\"../files/input/*.csv.zip\")\n",
    "\n",
    "quotes = []\n",
    "for file in files:\n",
    "    quotes.append(pd.read_csv(file, compression=\"zip\"))\n",
    "    "
   ]
  },
  {
   "cell_type": "code",
   "execution_count": 2,
   "id": "83b4ef7e",
   "metadata": {},
   "outputs": [],
   "source": [
    "#\n",
    "# Calculo de las variaciones diarias\n",
    "#\n",
    "import numpy as np  # type: ignore\n",
    "\n",
    "close_prices = np.vstack([q[\"close\"] for q in quotes])\n",
    "open_prices = np.vstack([q[\"open\"] for q in quotes])\n",
    "variation = close_prices - open_prices\n",
    "\n"
   ]
  },
  {
   "cell_type": "code",
   "execution_count": 3,
   "id": "ed99f4eb",
   "metadata": {},
   "outputs": [
    {
     "ename": "ValueError",
     "evalue": "The truth value of an array with more than one element is ambiguous. Use a.any() or a.all()",
     "output_type": "error",
     "traceback": [
      "\u001b[31m---------------------------------------------------------------------------\u001b[39m",
      "\u001b[31mValueError\u001b[39m                                Traceback (most recent call last)",
      "\u001b[36mFile \u001b[39m\u001b[32mc:\\Users\\user\\Documents\\fundamentos_analitica\\PRE-26-visualizacion-mercado-accionario-Mid1602\\.venv\\Lib\\site-packages\\IPython\\core\\formatters.py:1036\u001b[39m, in \u001b[36mMimeBundleFormatter.__call__\u001b[39m\u001b[34m(self, obj, include, exclude)\u001b[39m\n\u001b[32m   1033\u001b[39m     method = get_real_method(obj, \u001b[38;5;28mself\u001b[39m.print_method)\n\u001b[32m   1035\u001b[39m     \u001b[38;5;28;01mif\u001b[39;00m method \u001b[38;5;129;01mis\u001b[39;00m \u001b[38;5;129;01mnot\u001b[39;00m \u001b[38;5;28;01mNone\u001b[39;00m:\n\u001b[32m-> \u001b[39m\u001b[32m1036\u001b[39m         \u001b[38;5;28;01mreturn\u001b[39;00m \u001b[43mmethod\u001b[49m\u001b[43m(\u001b[49m\u001b[43minclude\u001b[49m\u001b[43m=\u001b[49m\u001b[43minclude\u001b[49m\u001b[43m,\u001b[49m\u001b[43m \u001b[49m\u001b[43mexclude\u001b[49m\u001b[43m=\u001b[49m\u001b[43mexclude\u001b[49m\u001b[43m)\u001b[49m\n\u001b[32m   1037\u001b[39m     \u001b[38;5;28;01mreturn\u001b[39;00m \u001b[38;5;28;01mNone\u001b[39;00m\n\u001b[32m   1038\u001b[39m \u001b[38;5;28;01melse\u001b[39;00m:\n",
      "\u001b[36mFile \u001b[39m\u001b[32mc:\\Users\\user\\Documents\\fundamentos_analitica\\PRE-26-visualizacion-mercado-accionario-Mid1602\\.venv\\Lib\\site-packages\\sklearn\\utils\\_repr_html\\base.py:151\u001b[39m, in \u001b[36mReprHTMLMixin._repr_mimebundle_\u001b[39m\u001b[34m(self, **kwargs)\u001b[39m\n\u001b[32m    149\u001b[39m output = {\u001b[33m\"\u001b[39m\u001b[33mtext/plain\u001b[39m\u001b[33m\"\u001b[39m: \u001b[38;5;28mrepr\u001b[39m(\u001b[38;5;28mself\u001b[39m)}\n\u001b[32m    150\u001b[39m \u001b[38;5;28;01mif\u001b[39;00m get_config()[\u001b[33m\"\u001b[39m\u001b[33mdisplay\u001b[39m\u001b[33m\"\u001b[39m] == \u001b[33m\"\u001b[39m\u001b[33mdiagram\u001b[39m\u001b[33m\"\u001b[39m:\n\u001b[32m--> \u001b[39m\u001b[32m151\u001b[39m     output[\u001b[33m\"\u001b[39m\u001b[33mtext/html\u001b[39m\u001b[33m\"\u001b[39m] = \u001b[38;5;28;43mself\u001b[39;49m\u001b[43m.\u001b[49m\u001b[43m_html_repr\u001b[49m\u001b[43m(\u001b[49m\u001b[43m)\u001b[49m\n\u001b[32m    152\u001b[39m \u001b[38;5;28;01mreturn\u001b[39;00m output\n",
      "\u001b[36mFile \u001b[39m\u001b[32mc:\\Users\\user\\Documents\\fundamentos_analitica\\PRE-26-visualizacion-mercado-accionario-Mid1602\\.venv\\Lib\\site-packages\\sklearn\\utils\\_repr_html\\estimator.py:480\u001b[39m, in \u001b[36mestimator_html_repr\u001b[39m\u001b[34m(estimator)\u001b[39m\n\u001b[32m    469\u001b[39m html_template = (\n\u001b[32m    470\u001b[39m     \u001b[33mf\u001b[39m\u001b[33m\"\u001b[39m\u001b[33m<style>\u001b[39m\u001b[38;5;132;01m{\u001b[39;00mstyle_with_id\u001b[38;5;132;01m}\u001b[39;00m\u001b[33m</style>\u001b[39m\u001b[33m\"\u001b[39m\n\u001b[32m    471\u001b[39m     \u001b[33mf\u001b[39m\u001b[33m\"\u001b[39m\u001b[33m<body>\u001b[39m\u001b[33m\"\u001b[39m\n\u001b[32m   (...)\u001b[39m\u001b[32m    476\u001b[39m     \u001b[33m'\u001b[39m\u001b[33m<div class=\u001b[39m\u001b[33m\"\u001b[39m\u001b[33msk-container\u001b[39m\u001b[33m\"\u001b[39m\u001b[33m hidden>\u001b[39m\u001b[33m'\u001b[39m\n\u001b[32m    477\u001b[39m )\n\u001b[32m    479\u001b[39m out.write(html_template)\n\u001b[32m--> \u001b[39m\u001b[32m480\u001b[39m \u001b[43m_write_estimator_html\u001b[49m\u001b[43m(\u001b[49m\n\u001b[32m    481\u001b[39m \u001b[43m    \u001b[49m\u001b[43mout\u001b[49m\u001b[43m,\u001b[49m\n\u001b[32m    482\u001b[39m \u001b[43m    \u001b[49m\u001b[43mestimator\u001b[49m\u001b[43m,\u001b[49m\n\u001b[32m    483\u001b[39m \u001b[43m    \u001b[49m\u001b[43mestimator\u001b[49m\u001b[43m.\u001b[49m\u001b[34;43m__class__\u001b[39;49m\u001b[43m.\u001b[49m\u001b[34;43m__name__\u001b[39;49m\u001b[43m,\u001b[49m\n\u001b[32m    484\u001b[39m \u001b[43m    \u001b[49m\u001b[43mestimator_str\u001b[49m\u001b[43m,\u001b[49m\n\u001b[32m    485\u001b[39m \u001b[43m    \u001b[49m\u001b[43mfirst_call\u001b[49m\u001b[43m=\u001b[49m\u001b[38;5;28;43;01mTrue\u001b[39;49;00m\u001b[43m,\u001b[49m\n\u001b[32m    486\u001b[39m \u001b[43m    \u001b[49m\u001b[43mis_fitted_css_class\u001b[49m\u001b[43m=\u001b[49m\u001b[43mis_fitted_css_class\u001b[49m\u001b[43m,\u001b[49m\n\u001b[32m    487\u001b[39m \u001b[43m    \u001b[49m\u001b[43mis_fitted_icon\u001b[49m\u001b[43m=\u001b[49m\u001b[43mis_fitted_icon\u001b[49m\u001b[43m,\u001b[49m\n\u001b[32m    488\u001b[39m \u001b[43m\u001b[49m\u001b[43m)\u001b[49m\n\u001b[32m    489\u001b[39m \u001b[38;5;28;01mwith\u001b[39;00m \u001b[38;5;28mopen\u001b[39m(\u001b[38;5;28mstr\u001b[39m(Path(\u001b[34m__file__\u001b[39m).parent / \u001b[33m\"\u001b[39m\u001b[33mestimator.js\u001b[39m\u001b[33m\"\u001b[39m), \u001b[33m\"\u001b[39m\u001b[33mr\u001b[39m\u001b[33m\"\u001b[39m) \u001b[38;5;28;01mas\u001b[39;00m f:\n\u001b[32m    490\u001b[39m     script = f.read()\n",
      "\u001b[36mFile \u001b[39m\u001b[32mc:\\Users\\user\\Documents\\fundamentos_analitica\\PRE-26-visualizacion-mercado-accionario-Mid1602\\.venv\\Lib\\site-packages\\sklearn\\utils\\_repr_html\\estimator.py:386\u001b[39m, in \u001b[36m_write_estimator_html\u001b[39m\u001b[34m(out, estimator, estimator_label, estimator_label_details, is_fitted_css_class, is_fitted_icon, first_call, param_prefix)\u001b[39m\n\u001b[32m    384\u001b[39m \u001b[38;5;28;01melif\u001b[39;00m est_block.kind == \u001b[33m\"\u001b[39m\u001b[33msingle\u001b[39m\u001b[33m\"\u001b[39m:\n\u001b[32m    385\u001b[39m     \u001b[38;5;28;01mif\u001b[39;00m \u001b[38;5;28mhasattr\u001b[39m(estimator, \u001b[33m\"\u001b[39m\u001b[33m_get_params_html\u001b[39m\u001b[33m\"\u001b[39m):\n\u001b[32m--> \u001b[39m\u001b[32m386\u001b[39m         params = \u001b[43mestimator\u001b[49m\u001b[43m.\u001b[49m\u001b[43m_get_params_html\u001b[49m\u001b[43m(\u001b[49m\u001b[43m)\u001b[49m._repr_html_inner()\n\u001b[32m    387\u001b[39m     \u001b[38;5;28;01melse\u001b[39;00m:\n\u001b[32m    388\u001b[39m         params = \u001b[33m\"\u001b[39m\u001b[33m\"\u001b[39m\n",
      "\u001b[36mFile \u001b[39m\u001b[32mc:\\Users\\user\\Documents\\fundamentos_analitica\\PRE-26-visualizacion-mercado-accionario-Mid1602\\.venv\\Lib\\site-packages\\sklearn\\base.py:310\u001b[39m, in \u001b[36mBaseEstimator._get_params_html\u001b[39m\u001b[34m(self, deep)\u001b[39m\n\u001b[32m    306\u001b[39m ordered_out = {name: out[name] \u001b[38;5;28;01mfor\u001b[39;00m name \u001b[38;5;129;01min\u001b[39;00m init_default_params \u001b[38;5;28;01mif\u001b[39;00m name \u001b[38;5;129;01min\u001b[39;00m out}\n\u001b[32m    307\u001b[39m ordered_out.update({name: out[name] \u001b[38;5;28;01mfor\u001b[39;00m name \u001b[38;5;129;01min\u001b[39;00m remaining_params})\n\u001b[32m    309\u001b[39m non_default_ls = \u001b[38;5;28mtuple\u001b[39m(\n\u001b[32m--> \u001b[39m\u001b[32m310\u001b[39m     \u001b[43m[\u001b[49m\u001b[43mname\u001b[49m\u001b[43m \u001b[49m\u001b[38;5;28;43;01mfor\u001b[39;49;00m\u001b[43m \u001b[49m\u001b[43mname\u001b[49m\u001b[43m,\u001b[49m\u001b[43m \u001b[49m\u001b[43mvalue\u001b[49m\u001b[43m \u001b[49m\u001b[38;5;129;43;01min\u001b[39;49;00m\u001b[43m \u001b[49m\u001b[43mordered_out\u001b[49m\u001b[43m.\u001b[49m\u001b[43mitems\u001b[49m\u001b[43m(\u001b[49m\u001b[43m)\u001b[49m\u001b[43m \u001b[49m\u001b[38;5;28;43;01mif\u001b[39;49;00m\u001b[43m \u001b[49m\u001b[43mis_non_default\u001b[49m\u001b[43m(\u001b[49m\u001b[43mname\u001b[49m\u001b[43m,\u001b[49m\u001b[43m \u001b[49m\u001b[43mvalue\u001b[49m\u001b[43m)\u001b[49m\u001b[43m]\u001b[49m\n\u001b[32m    311\u001b[39m )\n\u001b[32m    313\u001b[39m \u001b[38;5;28;01mreturn\u001b[39;00m ParamsDict(ordered_out, non_default=non_default_ls)\n",
      "\u001b[36mFile \u001b[39m\u001b[32mc:\\Users\\user\\Documents\\fundamentos_analitica\\PRE-26-visualizacion-mercado-accionario-Mid1602\\.venv\\Lib\\site-packages\\sklearn\\base.py:310\u001b[39m, in \u001b[36m<listcomp>\u001b[39m\u001b[34m(.0)\u001b[39m\n\u001b[32m    306\u001b[39m ordered_out = {name: out[name] \u001b[38;5;28;01mfor\u001b[39;00m name \u001b[38;5;129;01min\u001b[39;00m init_default_params \u001b[38;5;28;01mif\u001b[39;00m name \u001b[38;5;129;01min\u001b[39;00m out}\n\u001b[32m    307\u001b[39m ordered_out.update({name: out[name] \u001b[38;5;28;01mfor\u001b[39;00m name \u001b[38;5;129;01min\u001b[39;00m remaining_params})\n\u001b[32m    309\u001b[39m non_default_ls = \u001b[38;5;28mtuple\u001b[39m(\n\u001b[32m--> \u001b[39m\u001b[32m310\u001b[39m     [name \u001b[38;5;28;01mfor\u001b[39;00m name, value \u001b[38;5;129;01min\u001b[39;00m ordered_out.items() \u001b[38;5;28;01mif\u001b[39;00m \u001b[43mis_non_default\u001b[49m\u001b[43m(\u001b[49m\u001b[43mname\u001b[49m\u001b[43m,\u001b[49m\u001b[43m \u001b[49m\u001b[43mvalue\u001b[49m\u001b[43m)\u001b[49m]\n\u001b[32m    311\u001b[39m )\n\u001b[32m    313\u001b[39m \u001b[38;5;28;01mreturn\u001b[39;00m ParamsDict(ordered_out, non_default=non_default_ls)\n",
      "\u001b[36mFile \u001b[39m\u001b[32mc:\\Users\\user\\Documents\\fundamentos_analitica\\PRE-26-visualizacion-mercado-accionario-Mid1602\\.venv\\Lib\\site-packages\\sklearn\\base.py:296\u001b[39m, in \u001b[36mBaseEstimator._get_params_html.<locals>.is_non_default\u001b[39m\u001b[34m(param_name, param_value)\u001b[39m\n\u001b[32m    291\u001b[39m \u001b[38;5;28;01mif\u001b[39;00m \u001b[38;5;28misinstance\u001b[39m(param_value, BaseEstimator) \u001b[38;5;129;01mand\u001b[39;00m \u001b[38;5;28mtype\u001b[39m(param_value) \u001b[38;5;129;01mis\u001b[39;00m \u001b[38;5;129;01mnot\u001b[39;00m \u001b[38;5;28mtype\u001b[39m(\n\u001b[32m    292\u001b[39m     init_default_params[param_name]\n\u001b[32m    293\u001b[39m ):\n\u001b[32m    294\u001b[39m     \u001b[38;5;28;01mreturn\u001b[39;00m \u001b[38;5;28;01mTrue\u001b[39;00m\n\u001b[32m--> \u001b[39m\u001b[32m296\u001b[39m \u001b[38;5;28;01mif\u001b[39;00m param_value != init_default_params[param_name] \u001b[38;5;129;01mand\u001b[39;00m \u001b[38;5;129;01mnot\u001b[39;00m (\n\u001b[32m    297\u001b[39m     is_scalar_nan(init_default_params[param_name])\n\u001b[32m    298\u001b[39m     \u001b[38;5;129;01mand\u001b[39;00m is_scalar_nan(param_value)\n\u001b[32m    299\u001b[39m ):\n\u001b[32m    300\u001b[39m     \u001b[38;5;28;01mreturn\u001b[39;00m \u001b[38;5;28;01mTrue\u001b[39;00m\n\u001b[32m    301\u001b[39m \u001b[38;5;28;01mreturn\u001b[39;00m \u001b[38;5;28;01mFalse\u001b[39;00m\n",
      "\u001b[31mValueError\u001b[39m: The truth value of an array with more than one element is ambiguous. Use a.any() or a.all()"
     ]
    },
    {
     "ename": "ValueError",
     "evalue": "The truth value of an array with more than one element is ambiguous. Use a.any() or a.all()",
     "output_type": "error",
     "traceback": [
      "\u001b[31m---------------------------------------------------------------------------\u001b[39m",
      "\u001b[31mValueError\u001b[39m                                Traceback (most recent call last)",
      "\u001b[36mFile \u001b[39m\u001b[32mc:\\Users\\user\\Documents\\fundamentos_analitica\\PRE-26-visualizacion-mercado-accionario-Mid1602\\.venv\\Lib\\site-packages\\IPython\\core\\formatters.py:406\u001b[39m, in \u001b[36mBaseFormatter.__call__\u001b[39m\u001b[34m(self, obj)\u001b[39m\n\u001b[32m    404\u001b[39m     method = get_real_method(obj, \u001b[38;5;28mself\u001b[39m.print_method)\n\u001b[32m    405\u001b[39m     \u001b[38;5;28;01mif\u001b[39;00m method \u001b[38;5;129;01mis\u001b[39;00m \u001b[38;5;129;01mnot\u001b[39;00m \u001b[38;5;28;01mNone\u001b[39;00m:\n\u001b[32m--> \u001b[39m\u001b[32m406\u001b[39m         \u001b[38;5;28;01mreturn\u001b[39;00m \u001b[43mmethod\u001b[49m\u001b[43m(\u001b[49m\u001b[43m)\u001b[49m\n\u001b[32m    407\u001b[39m     \u001b[38;5;28;01mreturn\u001b[39;00m \u001b[38;5;28;01mNone\u001b[39;00m\n\u001b[32m    408\u001b[39m \u001b[38;5;28;01melse\u001b[39;00m:\n",
      "\u001b[36mFile \u001b[39m\u001b[32mc:\\Users\\user\\Documents\\fundamentos_analitica\\PRE-26-visualizacion-mercado-accionario-Mid1602\\.venv\\Lib\\site-packages\\sklearn\\utils\\_repr_html\\base.py:145\u001b[39m, in \u001b[36mReprHTMLMixin._repr_html_inner\u001b[39m\u001b[34m(self)\u001b[39m\n\u001b[32m    140\u001b[39m \u001b[38;5;28;01mdef\u001b[39;00m\u001b[38;5;250m \u001b[39m\u001b[34m_repr_html_inner\u001b[39m(\u001b[38;5;28mself\u001b[39m):\n\u001b[32m    141\u001b[39m \u001b[38;5;250m    \u001b[39m\u001b[33;03m\"\"\"This function is returned by the @property `_repr_html_` to make\u001b[39;00m\n\u001b[32m    142\u001b[39m \u001b[33;03m    `hasattr(estimator, \"_repr_html_\") return `True` or `False` depending\u001b[39;00m\n\u001b[32m    143\u001b[39m \u001b[33;03m    on `get_config()[\"display\"]`.\u001b[39;00m\n\u001b[32m    144\u001b[39m \u001b[33;03m    \"\"\"\u001b[39;00m\n\u001b[32m--> \u001b[39m\u001b[32m145\u001b[39m     \u001b[38;5;28;01mreturn\u001b[39;00m \u001b[38;5;28;43mself\u001b[39;49m\u001b[43m.\u001b[49m\u001b[43m_html_repr\u001b[49m\u001b[43m(\u001b[49m\u001b[43m)\u001b[49m\n",
      "\u001b[36mFile \u001b[39m\u001b[32mc:\\Users\\user\\Documents\\fundamentos_analitica\\PRE-26-visualizacion-mercado-accionario-Mid1602\\.venv\\Lib\\site-packages\\sklearn\\utils\\_repr_html\\estimator.py:480\u001b[39m, in \u001b[36mestimator_html_repr\u001b[39m\u001b[34m(estimator)\u001b[39m\n\u001b[32m    469\u001b[39m html_template = (\n\u001b[32m    470\u001b[39m     \u001b[33mf\u001b[39m\u001b[33m\"\u001b[39m\u001b[33m<style>\u001b[39m\u001b[38;5;132;01m{\u001b[39;00mstyle_with_id\u001b[38;5;132;01m}\u001b[39;00m\u001b[33m</style>\u001b[39m\u001b[33m\"\u001b[39m\n\u001b[32m    471\u001b[39m     \u001b[33mf\u001b[39m\u001b[33m\"\u001b[39m\u001b[33m<body>\u001b[39m\u001b[33m\"\u001b[39m\n\u001b[32m   (...)\u001b[39m\u001b[32m    476\u001b[39m     \u001b[33m'\u001b[39m\u001b[33m<div class=\u001b[39m\u001b[33m\"\u001b[39m\u001b[33msk-container\u001b[39m\u001b[33m\"\u001b[39m\u001b[33m hidden>\u001b[39m\u001b[33m'\u001b[39m\n\u001b[32m    477\u001b[39m )\n\u001b[32m    479\u001b[39m out.write(html_template)\n\u001b[32m--> \u001b[39m\u001b[32m480\u001b[39m \u001b[43m_write_estimator_html\u001b[49m\u001b[43m(\u001b[49m\n\u001b[32m    481\u001b[39m \u001b[43m    \u001b[49m\u001b[43mout\u001b[49m\u001b[43m,\u001b[49m\n\u001b[32m    482\u001b[39m \u001b[43m    \u001b[49m\u001b[43mestimator\u001b[49m\u001b[43m,\u001b[49m\n\u001b[32m    483\u001b[39m \u001b[43m    \u001b[49m\u001b[43mestimator\u001b[49m\u001b[43m.\u001b[49m\u001b[34;43m__class__\u001b[39;49m\u001b[43m.\u001b[49m\u001b[34;43m__name__\u001b[39;49m\u001b[43m,\u001b[49m\n\u001b[32m    484\u001b[39m \u001b[43m    \u001b[49m\u001b[43mestimator_str\u001b[49m\u001b[43m,\u001b[49m\n\u001b[32m    485\u001b[39m \u001b[43m    \u001b[49m\u001b[43mfirst_call\u001b[49m\u001b[43m=\u001b[49m\u001b[38;5;28;43;01mTrue\u001b[39;49;00m\u001b[43m,\u001b[49m\n\u001b[32m    486\u001b[39m \u001b[43m    \u001b[49m\u001b[43mis_fitted_css_class\u001b[49m\u001b[43m=\u001b[49m\u001b[43mis_fitted_css_class\u001b[49m\u001b[43m,\u001b[49m\n\u001b[32m    487\u001b[39m \u001b[43m    \u001b[49m\u001b[43mis_fitted_icon\u001b[49m\u001b[43m=\u001b[49m\u001b[43mis_fitted_icon\u001b[49m\u001b[43m,\u001b[49m\n\u001b[32m    488\u001b[39m \u001b[43m\u001b[49m\u001b[43m)\u001b[49m\n\u001b[32m    489\u001b[39m \u001b[38;5;28;01mwith\u001b[39;00m \u001b[38;5;28mopen\u001b[39m(\u001b[38;5;28mstr\u001b[39m(Path(\u001b[34m__file__\u001b[39m).parent / \u001b[33m\"\u001b[39m\u001b[33mestimator.js\u001b[39m\u001b[33m\"\u001b[39m), \u001b[33m\"\u001b[39m\u001b[33mr\u001b[39m\u001b[33m\"\u001b[39m) \u001b[38;5;28;01mas\u001b[39;00m f:\n\u001b[32m    490\u001b[39m     script = f.read()\n",
      "\u001b[36mFile \u001b[39m\u001b[32mc:\\Users\\user\\Documents\\fundamentos_analitica\\PRE-26-visualizacion-mercado-accionario-Mid1602\\.venv\\Lib\\site-packages\\sklearn\\utils\\_repr_html\\estimator.py:386\u001b[39m, in \u001b[36m_write_estimator_html\u001b[39m\u001b[34m(out, estimator, estimator_label, estimator_label_details, is_fitted_css_class, is_fitted_icon, first_call, param_prefix)\u001b[39m\n\u001b[32m    384\u001b[39m \u001b[38;5;28;01melif\u001b[39;00m est_block.kind == \u001b[33m\"\u001b[39m\u001b[33msingle\u001b[39m\u001b[33m\"\u001b[39m:\n\u001b[32m    385\u001b[39m     \u001b[38;5;28;01mif\u001b[39;00m \u001b[38;5;28mhasattr\u001b[39m(estimator, \u001b[33m\"\u001b[39m\u001b[33m_get_params_html\u001b[39m\u001b[33m\"\u001b[39m):\n\u001b[32m--> \u001b[39m\u001b[32m386\u001b[39m         params = \u001b[43mestimator\u001b[49m\u001b[43m.\u001b[49m\u001b[43m_get_params_html\u001b[49m\u001b[43m(\u001b[49m\u001b[43m)\u001b[49m._repr_html_inner()\n\u001b[32m    387\u001b[39m     \u001b[38;5;28;01melse\u001b[39;00m:\n\u001b[32m    388\u001b[39m         params = \u001b[33m\"\u001b[39m\u001b[33m\"\u001b[39m\n",
      "\u001b[36mFile \u001b[39m\u001b[32mc:\\Users\\user\\Documents\\fundamentos_analitica\\PRE-26-visualizacion-mercado-accionario-Mid1602\\.venv\\Lib\\site-packages\\sklearn\\base.py:310\u001b[39m, in \u001b[36mBaseEstimator._get_params_html\u001b[39m\u001b[34m(self, deep)\u001b[39m\n\u001b[32m    306\u001b[39m ordered_out = {name: out[name] \u001b[38;5;28;01mfor\u001b[39;00m name \u001b[38;5;129;01min\u001b[39;00m init_default_params \u001b[38;5;28;01mif\u001b[39;00m name \u001b[38;5;129;01min\u001b[39;00m out}\n\u001b[32m    307\u001b[39m ordered_out.update({name: out[name] \u001b[38;5;28;01mfor\u001b[39;00m name \u001b[38;5;129;01min\u001b[39;00m remaining_params})\n\u001b[32m    309\u001b[39m non_default_ls = \u001b[38;5;28mtuple\u001b[39m(\n\u001b[32m--> \u001b[39m\u001b[32m310\u001b[39m     \u001b[43m[\u001b[49m\u001b[43mname\u001b[49m\u001b[43m \u001b[49m\u001b[38;5;28;43;01mfor\u001b[39;49;00m\u001b[43m \u001b[49m\u001b[43mname\u001b[49m\u001b[43m,\u001b[49m\u001b[43m \u001b[49m\u001b[43mvalue\u001b[49m\u001b[43m \u001b[49m\u001b[38;5;129;43;01min\u001b[39;49;00m\u001b[43m \u001b[49m\u001b[43mordered_out\u001b[49m\u001b[43m.\u001b[49m\u001b[43mitems\u001b[49m\u001b[43m(\u001b[49m\u001b[43m)\u001b[49m\u001b[43m \u001b[49m\u001b[38;5;28;43;01mif\u001b[39;49;00m\u001b[43m \u001b[49m\u001b[43mis_non_default\u001b[49m\u001b[43m(\u001b[49m\u001b[43mname\u001b[49m\u001b[43m,\u001b[49m\u001b[43m \u001b[49m\u001b[43mvalue\u001b[49m\u001b[43m)\u001b[49m\u001b[43m]\u001b[49m\n\u001b[32m    311\u001b[39m )\n\u001b[32m    313\u001b[39m \u001b[38;5;28;01mreturn\u001b[39;00m ParamsDict(ordered_out, non_default=non_default_ls)\n",
      "\u001b[36mFile \u001b[39m\u001b[32mc:\\Users\\user\\Documents\\fundamentos_analitica\\PRE-26-visualizacion-mercado-accionario-Mid1602\\.venv\\Lib\\site-packages\\sklearn\\base.py:310\u001b[39m, in \u001b[36m<listcomp>\u001b[39m\u001b[34m(.0)\u001b[39m\n\u001b[32m    306\u001b[39m ordered_out = {name: out[name] \u001b[38;5;28;01mfor\u001b[39;00m name \u001b[38;5;129;01min\u001b[39;00m init_default_params \u001b[38;5;28;01mif\u001b[39;00m name \u001b[38;5;129;01min\u001b[39;00m out}\n\u001b[32m    307\u001b[39m ordered_out.update({name: out[name] \u001b[38;5;28;01mfor\u001b[39;00m name \u001b[38;5;129;01min\u001b[39;00m remaining_params})\n\u001b[32m    309\u001b[39m non_default_ls = \u001b[38;5;28mtuple\u001b[39m(\n\u001b[32m--> \u001b[39m\u001b[32m310\u001b[39m     [name \u001b[38;5;28;01mfor\u001b[39;00m name, value \u001b[38;5;129;01min\u001b[39;00m ordered_out.items() \u001b[38;5;28;01mif\u001b[39;00m \u001b[43mis_non_default\u001b[49m\u001b[43m(\u001b[49m\u001b[43mname\u001b[49m\u001b[43m,\u001b[49m\u001b[43m \u001b[49m\u001b[43mvalue\u001b[49m\u001b[43m)\u001b[49m]\n\u001b[32m    311\u001b[39m )\n\u001b[32m    313\u001b[39m \u001b[38;5;28;01mreturn\u001b[39;00m ParamsDict(ordered_out, non_default=non_default_ls)\n",
      "\u001b[36mFile \u001b[39m\u001b[32mc:\\Users\\user\\Documents\\fundamentos_analitica\\PRE-26-visualizacion-mercado-accionario-Mid1602\\.venv\\Lib\\site-packages\\sklearn\\base.py:296\u001b[39m, in \u001b[36mBaseEstimator._get_params_html.<locals>.is_non_default\u001b[39m\u001b[34m(param_name, param_value)\u001b[39m\n\u001b[32m    291\u001b[39m \u001b[38;5;28;01mif\u001b[39;00m \u001b[38;5;28misinstance\u001b[39m(param_value, BaseEstimator) \u001b[38;5;129;01mand\u001b[39;00m \u001b[38;5;28mtype\u001b[39m(param_value) \u001b[38;5;129;01mis\u001b[39;00m \u001b[38;5;129;01mnot\u001b[39;00m \u001b[38;5;28mtype\u001b[39m(\n\u001b[32m    292\u001b[39m     init_default_params[param_name]\n\u001b[32m    293\u001b[39m ):\n\u001b[32m    294\u001b[39m     \u001b[38;5;28;01mreturn\u001b[39;00m \u001b[38;5;28;01mTrue\u001b[39;00m\n\u001b[32m--> \u001b[39m\u001b[32m296\u001b[39m \u001b[38;5;28;01mif\u001b[39;00m param_value != init_default_params[param_name] \u001b[38;5;129;01mand\u001b[39;00m \u001b[38;5;129;01mnot\u001b[39;00m (\n\u001b[32m    297\u001b[39m     is_scalar_nan(init_default_params[param_name])\n\u001b[32m    298\u001b[39m     \u001b[38;5;129;01mand\u001b[39;00m is_scalar_nan(param_value)\n\u001b[32m    299\u001b[39m ):\n\u001b[32m    300\u001b[39m     \u001b[38;5;28;01mreturn\u001b[39;00m \u001b[38;5;28;01mTrue\u001b[39;00m\n\u001b[32m    301\u001b[39m \u001b[38;5;28;01mreturn\u001b[39;00m \u001b[38;5;28;01mFalse\u001b[39;00m\n",
      "\u001b[31mValueError\u001b[39m: The truth value of an array with more than one element is ambiguous. Use a.any() or a.all()"
     ]
    },
    {
     "data": {
      "text/plain": [
       "GraphicalLassoCV(alphas=array([ 0.03162278,  0.05994843,  0.11364637,  0.21544347,  0.40842387,\n",
       "        0.77426368,  1.46779927,  2.7825594 ,  5.27499706, 10.        ]))"
      ]
     },
     "execution_count": 3,
     "metadata": {},
     "output_type": "execute_result"
    }
   ],
   "source": [
    "#\n",
    "# Aprendizaje de la estructura gráfica\n",
    "#\n",
    "from sklearn import covariance\n",
    "\n",
    "alphas = np.logspace(-1.5, 1, num=10)\n",
    "edge_model = covariance.GraphicalLassoCV(alphas=alphas)\n",
    "\n",
    "# Usa la correlación en lugar de la covarianza\n",
    "X = variation.copy().T\n",
    "X /= X.std(axis=0)\n",
    "edge_model.fit(X)\n"
   ]
  },
  {
   "cell_type": "code",
   "execution_count": 4,
   "id": "d202ff0f",
   "metadata": {},
   "outputs": [],
   "source": [
    "\n",
    "#\n",
    "# Nombres de las acciones\n",
    "#\n",
    "symbol_dict = {\n",
    "    \"TOT\": \"Total\",\n",
    "    \"XOM\": \"Exxon\",\n",
    "    \"CVX\": \"Chevron\",\n",
    "    \"COP\": \"ConocoPhillips\",\n",
    "    \"VLO\": \"Valero Energy\",\n",
    "    \"MSFT\": \"Microsoft\",\n",
    "    \"IBM\": \"IBM\",\n",
    "    \"TWX\": \"Time Warner\",\n",
    "    \"CMCSA\": \"Comcast\",\n",
    "    \"CVC\": \"Cablevision\",\n",
    "    \"YHOO\": \"Yahoo\",\n",
    "    \"DELL\": \"Dell\",\n",
    "    \"HPQ\": \"HP\",\n",
    "    \"AMZN\": \"Amazon\",\n",
    "    \"TM\": \"Toyota\",\n",
    "    \"CAJ\": \"Canon\",\n",
    "    \"SNE\": \"Sony\",\n",
    "    \"F\": \"Ford\",\n",
    "    \"HMC\": \"Honda\",\n",
    "    \"NAV\": \"Navistar\",\n",
    "    \"NOC\": \"Northrop Grumman\",\n",
    "    \"BA\": \"Boeing\",\n",
    "    \"KO\": \"Coca Cola\",\n",
    "    \"MMM\": \"3M\",\n",
    "    \"MCD\": \"McDonald's\",\n",
    "    \"PEP\": \"Pepsi\",\n",
    "    \"K\": \"Kellogg\",\n",
    "    \"UN\": \"Unilever\",\n",
    "    \"MAR\": \"Marriott\",\n",
    "    \"PG\": \"Procter Gamble\",\n",
    "    \"CL\": \"Colgate-Palmolive\",\n",
    "    \"GE\": \"General Electrics\",\n",
    "    \"WFC\": \"Wells Fargo\",\n",
    "    \"JPM\": \"JPMorgan Chase\",\n",
    "    \"AIG\": \"AIG\",\n",
    "    \"AXP\": \"American express\",\n",
    "    \"BAC\": \"Bank of America\",\n",
    "    \"GS\": \"Goldman Sachs\",\n",
    "    \"AAPL\": \"Apple\",\n",
    "    \"SAP\": \"SAP\",\n",
    "    \"CSCO\": \"Cisco\",\n",
    "    \"TXN\": \"Texas Instruments\",\n",
    "    \"XRX\": \"Xerox\",\n",
    "    \"WMT\": \"Wal-Mart\",\n",
    "    \"HD\": \"Home Depot\",\n",
    "    \"GSK\": \"GlaxoSmithKline\",\n",
    "    \"PFE\": \"Pfizer\",\n",
    "    \"SNY\": \"Sanofi-Aventis\",\n",
    "    \"NVS\": \"Novartis\",\n",
    "    \"KMB\": \"Kimberly-Clark\",\n",
    "    \"R\": \"Ryder\",\n",
    "    \"GD\": \"General Dynamics\",\n",
    "    \"RTN\": \"Raytheon\",\n",
    "    \"CVS\": \"CVS\",\n",
    "    \"CAT\": \"Caterpillar\",\n",
    "    \"DD\": \"DuPont de Nemours\",\n",
    "}\n",
    "\n",
    "symbols, names = np.array(sorted(symbol_dict.items())).T\n"
   ]
  },
  {
   "cell_type": "code",
   "execution_count": 5,
   "id": "4fe9525e",
   "metadata": {},
   "outputs": [
    {
     "name": "stdout",
     "output_type": "stream",
     "text": [
      "Cluster 1: Apple, Amazon, Yahoo\n",
      "Cluster 2: Comcast, Cablevision, Time Warner\n",
      "Cluster 3: ConocoPhillips, Chevron, Total, Valero Energy, Exxon\n",
      "Cluster 4: Cisco, Dell, HP, IBM, Microsoft, SAP, Texas Instruments\n",
      "Cluster 5: Boeing, General Dynamics, Northrop Grumman, Raytheon\n",
      "Cluster 6: AIG, American express, Bank of America, Caterpillar, CVS, DuPont de Nemours, Ford, General Electrics, Goldman Sachs, Home Depot, JPMorgan Chase, Marriott, McDonald's, 3M, Ryder, Wells Fargo, Wal-Mart\n",
      "Cluster 7: GlaxoSmithKline, Novartis, Pfizer, Sanofi-Aventis, Unilever\n",
      "Cluster 8: Kellogg, Coca Cola, Pepsi\n",
      "Cluster 9: Colgate-Palmolive, Kimberly-Clark, Procter Gamble\n",
      "Cluster 10: Canon, Honda, Navistar, Sony, Toyota, Xerox\n"
     ]
    }
   ],
   "source": [
    "\n",
    "#\n",
    "# Clustering\n",
    "#\n",
    "from sklearn import cluster\n",
    "\n",
    "_, labels = cluster.affinity_propagation(edge_model.covariance_, random_state=0)\n",
    "n_labels = labels.max()\n",
    "\n",
    "for i in range(n_labels + 1):\n",
    "    print(f\"Cluster {i + 1}: {', '.join(names[labels == i])}\")\n",
    "    \n",
    "    "
   ]
  },
  {
   "cell_type": "code",
   "execution_count": 6,
   "id": "cfa9da9d",
   "metadata": {},
   "outputs": [
    {
     "ename": "NameError",
     "evalue": "name 'embedding' is not defined",
     "output_type": "error",
     "traceback": [
      "\u001b[31m---------------------------------------------------------------------------\u001b[39m",
      "\u001b[31mNameError\u001b[39m                                 Traceback (most recent call last)",
      "\u001b[36mCell\u001b[39m\u001b[36m \u001b[39m\u001b[32mIn[6]\u001b[39m\u001b[32m, line 22\u001b[39m\n\u001b[32m     18\u001b[39m non_zero = np.abs(np.triu(partial_correlations, k=\u001b[32m1\u001b[39m)) > \u001b[32m0.02\u001b[39m\n\u001b[32m     20\u001b[39m \u001b[38;5;66;03m# Grafica los nodos usando las coordenadas del embedding\u001b[39;00m\n\u001b[32m     21\u001b[39m plt.scatter(\n\u001b[32m---> \u001b[39m\u001b[32m22\u001b[39m     \u001b[43membedding\u001b[49m[\u001b[32m0\u001b[39m], embedding[\u001b[32m1\u001b[39m], s=\u001b[32m100\u001b[39m * d**\u001b[32m2\u001b[39m, c=labels, cmap=plt.cm.nipy_spectral\n\u001b[32m     23\u001b[39m )\n\u001b[32m     25\u001b[39m \u001b[38;5;66;03m# Grafica los bordes\u001b[39;00m\n\u001b[32m     26\u001b[39m start_idx, end_idx = np.where(non_zero)\n",
      "\u001b[31mNameError\u001b[39m: name 'embedding' is not defined"
     ]
    },
    {
     "data": {
      "image/png": "[encoded data removed]",
      "text/plain": [
       "<Figure size 1000x800 with 1 Axes>"
      ]
     },
     "metadata": {},
     "output_type": "display_data"
    }
   ],
   "source": [
    "\n",
    "#\n",
    "# Visualización\n",
    "#\n",
    "import matplotlib.pyplot as plt\n",
    "from matplotlib.collections import LineCollection\n",
    "\n",
    "plt.figure(1, facecolor=\"w\", figsize=(10, 8))\n",
    "\n",
    "plt.clf()\n",
    "ax = plt.axes([0.0, 0.0, 1.0, 1.0])\n",
    "plt.axis(\"off\")\n",
    "\n",
    "# Muestra la grafica de las correlaciones parciales\n",
    "partial_correlations = edge_model.precision_.copy()\n",
    "d = 1 / np.sqrt(np.diag(partial_correlations))\n",
    "partial_correlations *= d\n",
    "partial_correlations *= d[:, np.newaxis]\n",
    "non_zero = np.abs(np.triu(partial_correlations, k=1)) > 0.02\n",
    "\n",
    "# Grafica los nodos usando las coordenadas del embedding\n",
    "plt.scatter(\n",
    "    embedding[0], embedding[1], s=100 * d**2, c=labels, cmap=plt.cm.nipy_spectral\n",
    ")\n",
    "\n",
    "# Grafica los bordes\n",
    "start_idx, end_idx = np.where(non_zero)\n",
    "# a sequence of (*line0*, *line1*, *line2*), where::\n",
    "#            linen = (x0, y0), (x1, y1), ... (xm, ym)\n",
    "segments = [\n",
    "    [embedding[:, start], embedding[:, stop]] for start, stop in zip(start_idx, end_idx)\n",
    "]\n",
    "values = np.abs(partial_correlations[non_zero])\n",
    "lc = LineCollection(\n",
    "    segments, zorder=0, cmap=plt.cm.hot_r, norm=plt.Normalize(0, 0.7 * values.max())\n",
    ")\n",
    "lc.set_array(values)\n",
    "lc.set_linewidths(15 * values)\n",
    "ax.add_collection(lc)\n",
    "\n",
    "# Adicional a etiqueta a cada nodo. El reto es posicionar las etiquetas\n",
    "# para evitar que se traslapen con otras etiquetas\n",
    "for index, (name, label, (x, y)) in enumerate(zip(names, labels, embedding.T)):\n",
    "    dx = x - embedding[0]\n",
    "    dx[index] = 1\n",
    "    dy = y - embedding[1]\n",
    "    dy[index] = 1\n",
    "    this_dx = dx[np.argmin(np.abs(dy))]\n",
    "    this_dy = dy[np.argmin(np.abs(dx))]\n",
    "    if this_dx > 0:\n",
    "        horizontalalignment = \"left\"\n",
    "        x = x + 0.002\n",
    "    else:\n",
    "        horizontalalignment = \"right\"\n",
    "        x = x - 0.002\n",
    "    if this_dy > 0:\n",
    "        verticalalignment = \"bottom\"\n",
    "        y = y + 0.002\n",
    "    else:\n",
    "        verticalalignment = \"top\"\n",
    "        y = y - 0.002\n",
    "    plt.text(\n",
    "        x,\n",
    "        y,\n",
    "        name,\n",
    "        size=10,\n",
    "        horizontalalignment=horizontalalignment,\n",
    "        verticalalignment=verticalalignment,\n",
    "        bbox=dict(\n",
    "            facecolor=\"w\",\n",
    "            edgecolor=plt.cm.nipy_spectral(label / float(n_labels)),\n",
    "            alpha=0.6,\n",
    "        ),\n",
    "    )\n",
    "\n",
    "plt.xlim(\n",
    "    embedding[0].min() - 0.15 * np.ptp(embedding[0]),\n",
    "    embedding[0].max() + 0.10 * np.ptp(embedding[0]),\n",
    ")\n",
    "plt.ylim(\n",
    "    embedding[1].min() - 0.03 * np.ptp(embedding[1]),\n",
    "    embedding[1].max() + 0.03 * np.ptp(embedding[1]),\n",
    ")\n",
    "\n",
    "plt.show()\n"
   ]
  },
  {
   "cell_type": "code",
   "execution_count": 7,
   "id": "f893d857",
   "metadata": {},
   "outputs": [
    {
     "data": {
      "text/plain": [
       "<Figure size 640x480 with 0 Axes>"
      ]
     },
     "metadata": {},
     "output_type": "display_data"
    }
   ],
   "source": [
    "#\n",
    "# Guarda la figura\n",
    "#\n",
    "import os\n",
    "\n",
    "if not os.path.exists(\"../files/output\"):\n",
    "    os.makedirs(\"../files/output\")\n",
    "\n",
    "plt.savefig(\"../files/output/stocks.png\")\n"
   ]
  }
 ],
 "metadata": {
  "kernelspec": {
   "display_name": ".venv",
   "language": "python",
   "name": "python3"
  },
  "language_info": {
   "codemirror_mode": {
    "name": "ipython",
    "version": 3
   },
   "file_extension": ".py",
   "mimetype": "text/x-python",
   "name": "python",
   "nbconvert_exporter": "python",
   "pygments_lexer": "ipython3",
   "version": "3.11.4"
  }
 },
 "nbformat": 4,
 "nbformat_minor": 5
}
